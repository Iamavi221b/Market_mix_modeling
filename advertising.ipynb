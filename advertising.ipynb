{
 "cells": [
  {
   "cell_type": "code",
   "execution_count": null,
   "metadata": {},
   "outputs": [],
   "source": [
    "# Importing required libraries\n",
    "import numpy as np\n",
    "import pandas as pd\n",
    "import matplotlib.pyplot as plt\n",
    "import seaborn as sns\n",
    "import plotly.express as px\n",
    "from scipy import stats\n",
    "import statsmodels.api as sm"
   ]
  },
  {
   "cell_type": "code",
   "execution_count": null,
   "metadata": {},
   "outputs": [],
   "source": [
    "class mmm():\n",
    "\n",
    "    def explore(self, **kwargs):\n",
    "        # reading the required data file\n",
    "        data = pd.read_csv('{}'.format(kwargs['file_name']))\n",
    "        # removing all the extra columns\n",
    "        data = data[kwargs['independent_col'] + (kwargs['dependent_col'])]\n",
    "\n",
    "        # exploring the data\n",
    "        labels = data[kwargs['dependent_col']]\n",
    "        print(labels.head())\n",
    "        print(labels.describe())\n",
    "\n",
    "        features = data[kwargs['independent_col']]\n",
    "        print(features.head())\n",
    "        print(features.describe())\n",
    "\n",
    "        # creating scatter graph b/w labels and all the features to check data skreness\n",
    "        for item in features:\n",
    "            fig = px.scatter(data, x=\"{}\".format(item), y=\"{}\".format(labels.columns[0]))\n",
    "            fig.show()\n",
    "\n",
    "            plt.hist(features[item], bins='auto')\n",
    "            plt.title(item)\n",
    "            plt.show()\n",
    "            \n",
    "        return labels, features\n",
    "\n",
    "    \n",
    "    def transform(self, **kwargs):\n",
    "        features = kwargs['features']\n",
    "        labels = kwargs['labels']\n",
    "        \n",
    "        for item in kwargs['transform_col']:\n",
    "            x = features[item]\n",
    "            features[item], _ = stats.boxcox(x)\n",
    "            data = pd.concat([features[item], labels], axis=1)\n",
    "            fig = px.scatter(data, x=\"{}\".format(item), y=\"{}\".format(labels.columns[0]))\n",
    "            fig.show()\n",
    "\n",
    "            plt.hist(features[item], bins='auto')\n",
    "            plt.title(item)\n",
    "            plt.show()\n",
    "    \n",
    "        return labels, features\n",
    "\n",
    "\n",
    "    def model(self, **kwargs):\n",
    "\n",
    "        model = sm.OLS(kwargs['labels'], kwargs['features']).fit()\n",
    "        print(model.summary())\n",
    "\n",
    "        #Model 2 Parameters, error, and r square\n",
    "        print('Parameters: ', model.params)\n",
    "        print('R2: ', model.rsquared)\n",
    "        print('Standard errors: ', model.bse)\n",
    "\n",
    "        # Actual and predicted values\n",
    "        y_pred = model.predict()\n",
    "        df1 = pd.DataFrame({'Actual': kwargs['labels']['sales'], 'Predicted': y_pred})\n",
    "        print(df1.head(10))\n",
    "        fig = px.line(df1, x=df1.index, y=['Actual', 'Predicted'])\n",
    "        fig.show()\n"
   ]
  },
  {
   "cell_type": "code",
   "execution_count": null,
   "metadata": {},
   "outputs": [],
   "source": [
    "myobject = mmm()"
   ]
  },
  {
   "cell_type": "code",
   "execution_count": null,
   "metadata": {},
   "outputs": [],
   "source": [
    "labels, features = myobject.explore(file_name='Advertising.csv',\n",
    "                independent_col=['TV', 'radio', 'newspaper'],\n",
    "                dependent_col=['sales'])"
   ]
  },
  {
   "cell_type": "code",
   "execution_count": null,
   "metadata": {},
   "outputs": [],
   "source": [
    "lables, features = myobject.transform(features=features,labels=labels,\n",
    "                    transform_col=['newspaper'])"
   ]
  },
  {
   "cell_type": "code",
   "execution_count": null,
   "metadata": {},
   "outputs": [],
   "source": [
    "myobject.model(features=features, labels=labels)"
   ]
  },
  {
   "cell_type": "code",
   "execution_count": null,
   "metadata": {},
   "outputs": [],
   "source": []
  },
  {
   "cell_type": "code",
   "execution_count": null,
   "metadata": {},
   "outputs": [],
   "source": []
  }
 ],
 "metadata": {
  "interpreter": {
   "hash": "916dbcbb3f70747c44a77c7bcd40155683ae19c65e1c03b4aa3499c5328201f1"
  },
  "kernelspec": {
   "display_name": "Python 3.9.7 64-bit",
   "language": "python",
   "name": "python3"
  },
  "language_info": {
   "codemirror_mode": {
    "name": "ipython",
    "version": 3
   },
   "file_extension": ".py",
   "mimetype": "text/x-python",
   "name": "python",
   "nbconvert_exporter": "python",
   "pygments_lexer": "ipython3",
   "version": "3.9.7"
  },
  "orig_nbformat": 4
 },
 "nbformat": 4,
 "nbformat_minor": 2
}
